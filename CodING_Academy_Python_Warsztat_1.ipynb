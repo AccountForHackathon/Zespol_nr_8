{
 "cells": [
  {
   "cell_type": "markdown",
   "metadata": {},
   "source": [
    "# CodING Academy: Python\n",
    "\n",
    "## Warsztat 1"
   ]
  },
  {
   "cell_type": "markdown",
   "metadata": {},
   "source": [
    "# PEP 8\n",
    "\n",
    "### Czyli co to jest?\n",
    "0. \"Gramatyka\" języka Python\n",
    "0. Czytelność kodu - jednakowe zrozumienie\n",
    "\n",
    "### Główne założenia\n",
    "0. Wcięcia\n",
    "0. 4 spacje\n",
    "0. Długość linii (79 znaków)\n",
    "0. Łamanie linii przed operatorem binarnym\n",
    "0. Kodowanie UTF-8\n",
    "0. Importy w osobnych liniach\n",
    "0. Gdzie powinniśmy wstawiać spacje\n",
    "0. Komentarze\n",
    "0. Nazwy zmiennych (`snake_case`)\n",
    "0. I wiele innych - zobacz: https://www.python.org/dev/peps/pep-0008/"
   ]
  },
  {
   "cell_type": "markdown",
   "metadata": {},
   "source": [
    "### Zmienne"
   ]
  },
  {
   "cell_type": "markdown",
   "metadata": {},
   "source": [
    "#### Wyświetlanie wartości zmiennej"
   ]
  },
  {
   "cell_type": "code",
   "execution_count": 1,
   "metadata": {},
   "outputs": [],
   "source": [
    "# Zakładamy kartotekę dla klienta\n",
    "imie = 'Jacek'\n",
    "nazwisko = 'Kisiel'\n",
    "wiek = 30\n",
    "pesel = '90120123543'\n",
    "numer_rachunku = '1223457543000043321234'"
   ]
  },
  {
   "cell_type": "code",
   "execution_count": 3,
   "metadata": {},
   "outputs": [
    {
     "name": "stdout",
     "output_type": "stream",
     "text": [
      "Nowy Klient Jacek Kisiel, numer pesel 90120123543\n"
     ]
    }
   ],
   "source": [
    "# Wyświetl na ekranie zdanie: Nowy Klient: <imie> <nazwisko>, z numerem pesel <pesel>.\n",
    "print(f'Nowy Klient {imie} {nazwisko}, numer pesel {pesel}')"
   ]
  },
  {
   "cell_type": "markdown",
   "metadata": {},
   "source": [
    "### Znak końca linii - '\\n'"
   ]
  },
  {
   "cell_type": "code",
   "execution_count": 5,
   "metadata": {},
   "outputs": [
    {
     "name": "stdout",
     "output_type": "stream",
     "text": [
      "Jacek\n",
      "Kisiel\n",
      "30\n",
      "90120123543\n",
      "1223457543000043321234\n"
     ]
    }
   ],
   "source": [
    "# Wyświetl na ekranie atrybuty klienta, żeby kazdy atrybut znajdował się w osobnej linijce. \n",
    "print(f'{imie}\\n{nazwisko}\\n{wiek}\\n{pesel}\\n{numer_rachunku}')"
   ]
  },
  {
   "cell_type": "markdown",
   "metadata": {},
   "source": [
    "### Operatory arytmetyczne"
   ]
  },
  {
   "cell_type": "code",
   "execution_count": 6,
   "metadata": {},
   "outputs": [],
   "source": [
    "# Tworzymy dwie zmienne, na których będziemy wykonywali operacje arytmetyczne\n",
    "saldo = 1000\n",
    "kwota_przelewu = 500"
   ]
  },
  {
   "cell_type": "code",
   "execution_count": 9,
   "metadata": {},
   "outputs": [
    {
     "name": "stdout",
     "output_type": "stream",
     "text": [
      "Saldo klienta: 1000\n",
      "Kwota przełewu: 500\n"
     ]
    }
   ],
   "source": [
    "# Wyświetl wartości zmiennych\n",
    "print('Saldo klienta:', saldo)\n",
    "print('Kwota przełewu:',kwota_przelewu )"
   ]
  },
  {
   "cell_type": "code",
   "execution_count": 11,
   "metadata": {},
   "outputs": [
    {
     "name": "stdout",
     "output_type": "stream",
     "text": [
      "Saldo klienta po wykonaniu przelewu: 1500\n"
     ]
    }
   ],
   "source": [
    "# Saldo klienta po wykonaniu przelewu na rachunek klienta\n",
    "print('Saldo klienta po wykonaniu przelewu:',saldo+kwota_przelewu )"
   ]
  },
  {
   "cell_type": "code",
   "execution_count": 12,
   "metadata": {},
   "outputs": [
    {
     "name": "stdout",
     "output_type": "stream",
     "text": [
      "Saldo klienta po wykonaniu przelewu: 500\n"
     ]
    }
   ],
   "source": [
    "# Saldo klienta po wykonaniu przelewu z rachunku klienta\n",
    "print('Saldo klienta po wykonaniu przelewu:', saldo-kwota_przelewu)"
   ]
  },
  {
   "cell_type": "code",
   "execution_count": 13,
   "metadata": {},
   "outputs": [
    {
     "name": "stdout",
     "output_type": "stream",
     "text": [
      "Łączna suma przełewów: 300\n"
     ]
    }
   ],
   "source": [
    "# Przypuśćmy, że klient musi wykonać przełew na kwotę 100 zł. 3 razy, jaka będzie łączna suma przełewów\n",
    "kwota_przelewu = 100\n",
    "liczba_przelewow = 3\n",
    "print('Łączna suma przełewów:', kwota_przelewu*liczba_przelewow)"
   ]
  },
  {
   "cell_type": "code",
   "execution_count": 14,
   "metadata": {},
   "outputs": [
    {
     "name": "stdout",
     "output_type": "stream",
     "text": [
      "Łączna suma przełewów: 300\n"
     ]
    }
   ],
   "source": [
    "# Przypuśćmy, że klient musi wykonać przełew na kwotę 100 zł. 3 razy, jaka będzie łączna suma przełewów\n",
    "kwota_przelewu = 100\n",
    "liczba_przelewow = 3\n",
    "print('Łączna suma przełewów:', kwota_przelewu*liczba_przelewow)"
   ]
  },
  {
   "cell_type": "code",
   "execution_count": 15,
   "metadata": {},
   "outputs": [
    {
     "name": "stdout",
     "output_type": "stream",
     "text": [
      "Kwota bedzie na każdym z rachunków: 50.0\n"
     ]
    }
   ],
   "source": [
    "# Klient chcę równo podzielić 150 zł. pomiędzy 3 rachunkami. Jaka kwota bedzie na każdym z rachunków?\n",
    "suma = 150\n",
    "liczba_rachunkow = 3\n",
    "print('Kwota bedzie na każdym z rachunków:', suma/liczba_rachunkow)"
   ]
  },
  {
   "cell_type": "code",
   "execution_count": 17,
   "metadata": {},
   "outputs": [
    {
     "name": "stdout",
     "output_type": "stream",
     "text": [
      "Kwota bedzie na każdym z rachunków: 33\n"
     ]
    }
   ],
   "source": [
    "# Klient chcę równo podzielić 100 zł. pomiędzy 3 rachunkami, \n",
    "# żeby kwota na każdym z rachunków odpowiadała liczbie całkowitej\n",
    "suma = 100\n",
    "liczba_rachunkow = 3\n",
    "print('Kwota bedzie na każdym z rachunków:', suma//liczba_rachunkow)"
   ]
  },
  {
   "cell_type": "code",
   "execution_count": 18,
   "metadata": {},
   "outputs": [
    {
     "name": "stdout",
     "output_type": "stream",
     "text": [
      "Nieprzydzielona kwota: 1\n"
     ]
    }
   ],
   "source": [
    "# Jaka kwota bedzie nieprzydzielona po wykonaniu poprzedniej operacji\n",
    "print('Nieprzydzielona kwota:', suma%liczba_rachunkow)"
   ]
  },
  {
   "cell_type": "code",
   "execution_count": 19,
   "metadata": {},
   "outputs": [
    {
     "name": "stdout",
     "output_type": "stream",
     "text": [
      "Wynik potęgowania x ** y = 8\n"
     ]
    }
   ],
   "source": [
    "# Operację potęgowania\n",
    "x = 2\n",
    "y = 3\n",
    "print('Wynik potęgowania x ** y =', x**y)"
   ]
  },
  {
   "cell_type": "code",
   "execution_count": null,
   "metadata": {},
   "outputs": [],
   "source": [
    "# Skrócona ważność operatorów: (potęga), (iloczyn, iloraz, reszta z dzielenia, dzielenie całkowite), (suma, różnica)"
   ]
  },
  {
   "cell_type": "code",
   "execution_count": null,
   "metadata": {},
   "outputs": [],
   "source": [
    "# Czy wynik będzie ten sam?"
   ]
  },
  {
   "cell_type": "code",
   "execution_count": 20,
   "metadata": {},
   "outputs": [
    {
     "name": "stdout",
     "output_type": "stream",
     "text": [
      "11\n"
     ]
    }
   ],
   "source": [
    "print(3 + 2 * 4)"
   ]
  },
  {
   "cell_type": "code",
   "execution_count": 21,
   "metadata": {},
   "outputs": [
    {
     "name": "stdout",
     "output_type": "stream",
     "text": [
      "20\n"
     ]
    }
   ],
   "source": [
    "print((3 + 2)* 4)"
   ]
  },
  {
   "cell_type": "code",
   "execution_count": null,
   "metadata": {},
   "outputs": [],
   "source": [
    "# SyntaxError"
   ]
  },
  {
   "cell_type": "code",
   "execution_count": 23,
   "metadata": {},
   "outputs": [
    {
     "ename": "SyntaxError",
     "evalue": "cannot assign to literal (<ipython-input-23-b0e721cffcb7>, line 2)",
     "output_type": "error",
     "traceback": [
      "\u001b[1;36m  File \u001b[1;32m\"<ipython-input-23-b0e721cffcb7>\"\u001b[1;36m, line \u001b[1;32m2\u001b[0m\n\u001b[1;33m    'imię' = 1\u001b[0m\n\u001b[1;37m    ^\u001b[0m\n\u001b[1;31mSyntaxError\u001b[0m\u001b[1;31m:\u001b[0m cannot assign to literal\n"
     ]
    }
   ],
   "source": [
    "# Czy możemy wykonać następne działania?\n",
    "'imię' = 1\n",
    "1 = 'nazwisko'"
   ]
  },
  {
   "cell_type": "markdown",
   "metadata": {},
   "source": [
    "### Numeryczne typy danych"
   ]
  },
  {
   "cell_type": "code",
   "execution_count": 25,
   "metadata": {},
   "outputs": [],
   "source": [
    "# Sprawdź typy następnych zmiennych:\n",
    "saldo = 3000\n",
    "kwota_przelewu = 345.75"
   ]
  },
  {
   "cell_type": "code",
   "execution_count": 26,
   "metadata": {},
   "outputs": [
    {
     "name": "stdout",
     "output_type": "stream",
     "text": [
      "Typ zmiennej saldo: <class 'int'>\n",
      "Typ zmiennej kwota_przelewu: <class 'float'>\n"
     ]
    }
   ],
   "source": [
    "print('Typ zmiennej saldo:', type(saldo))\n",
    "print('Typ zmiennej kwota_przelewu:', type(kwota_przelewu))"
   ]
  },
  {
   "cell_type": "code",
   "execution_count": 27,
   "metadata": {},
   "outputs": [
    {
     "name": "stdout",
     "output_type": "stream",
     "text": [
      "345\n"
     ]
    }
   ],
   "source": [
    "# Skonwertuj zmienną kwota_przelewu do typu int:\n",
    "print(int(kwota_przelewu))\n"
   ]
  },
  {
   "cell_type": "markdown",
   "metadata": {},
   "source": [
    "# Typy logiczne\n",
    "\n",
    "### bool\n",
    "0. `False`\n",
    "0. `True`\n",
    "\n",
    "### bool-like\n",
    "0. falsy\n",
    "0. truthy\n",
    "\n",
    "### Operatory porównania:\n",
    "0. `<`\n",
    "0. `<=`\n",
    "0. `>`\n",
    "0. `>=`\n",
    "0. `==`\n",
    "0. `!=`\n",
    "\n",
    "### Operatory logiczne:\n",
    "0. `and`\n",
    "0. `or`\n",
    "0. `in`\n",
    "0. `is`\n",
    "0. `not`\n",
    "\n",
    "### Rzutowanie\n",
    "`bool(x)`"
   ]
  },
  {
   "cell_type": "code",
   "execution_count": 32,
   "metadata": {},
   "outputs": [
    {
     "data": {
      "text/plain": [
       "False"
      ]
     },
     "execution_count": 32,
     "metadata": {},
     "output_type": "execute_result"
    }
   ],
   "source": [
    "# Na podstawie egzekucji klienta przypisz flagę windykcji\n",
    "client_executions = []\n",
    "vindication_flag = bool(client_executions)\n",
    "vindication_flag"
   ]
  },
  {
   "cell_type": "code",
   "execution_count": 28,
   "metadata": {},
   "outputs": [
    {
     "data": {
      "text/plain": [
       "True"
      ]
     },
     "execution_count": 28,
     "metadata": {},
     "output_type": "execute_result"
    }
   ],
   "source": [
    "# Na podstawie salda i kwoty transakcji sprawdź czy transakcja może być zrealizowana\n",
    "accout_balance = 5_123.00\n",
    "transaction_amount = 234.99\n",
    "\n",
    "transaction_possible = accout_balance > transaction_amount\n",
    "transaction_possible"
   ]
  },
  {
   "cell_type": "code",
   "execution_count": 31,
   "metadata": {},
   "outputs": [
    {
     "data": {
      "text/plain": [
       "False"
      ]
     },
     "execution_count": 31,
     "metadata": {},
     "output_type": "execute_result"
    }
   ],
   "source": [
    "# Na podstawie flagi aktywności rachunku oraz salda i kwoty transakcji sprawdź czy transakcja może być zrealizowana\n",
    "is_account_active = False\n",
    "accout_balance = 5_123.00\n",
    "transaction_amount = 234.99\n",
    "\n",
    "transaction_possible = is_account_active and accout_balance > transaction_amount\n",
    "transaction_possible"
   ]
  },
  {
   "cell_type": "markdown",
   "metadata": {},
   "source": [
    "# Łańcuchy znaków\n",
    "\n",
    "### String\n",
    "0. `'string'`\n",
    "0. `\"string\"`\n",
    "0. `\"\"\"str\n",
    "    ing\"\"\"`\n",
    "\n",
    "### Znak wyjścia\n",
    "0. `\\'`\n",
    "0. `\\\"`\n",
    "\n",
    "### Konkatenacja\n",
    "`string_1 + string_2`\n",
    "\n",
    "### Slicing\n",
    "`string[start:stop:step]`\n",
    "\n",
    "### Rzutowanie\n",
    "`str(x)`"
   ]
  },
  {
   "cell_type": "code",
   "execution_count": 38,
   "metadata": {},
   "outputs": [
    {
     "data": {
      "text/plain": [
       "'JANING3941'"
      ]
     },
     "execution_count": 38,
     "metadata": {},
     "output_type": "execute_result"
    }
   ],
   "source": [
    "# Stworzenie loginu - końcowa liczba to iloczyn wieku klienta i magicznej liczby 'JANING3094'\n",
    "first_name = \"Jan\"\n",
    "last_name = \"Ingowski\"\n",
    "age = 34\n",
    "magic_number = 91\n",
    "\n",
    "customer_login = (first_name[0:3] +last_name[0:3]+str(age//10)+str(magic_number//10)+str(age%10)+str(magic_number%10)).upper()\n",
    "customer_login"
   ]
  },
  {
   "cell_type": "code",
   "execution_count": 58,
   "metadata": {},
   "outputs": [
    {
     "data": {
      "text/plain": [
       "'0012345678'"
      ]
     },
     "execution_count": 58,
     "metadata": {},
     "output_type": "execute_result"
    }
   ],
   "source": [
    "# Uzupełnienie numeru rachunku do 10 znaków (wiodącymi zerami)\n",
    "account_number = 12345678\n",
    "\n",
    "account_number_str = '0'*2+str(account_number)\n",
    "str(account_number).zfill(10)\n",
    "\n",
    "account_number_str"
   ]
  },
  {
   "cell_type": "code",
   "execution_count": 60,
   "metadata": {},
   "outputs": [
    {
     "data": {
      "text/plain": [
       "'#############################################moj string#############################################'"
      ]
     },
     "execution_count": 60,
     "metadata": {},
     "output_type": "execute_result"
    }
   ],
   "source": [
    "exercise='moj string'\n",
    "exercise.center?\n",
    "exercise.center(100,'#')"
   ]
  },
  {
   "cell_type": "markdown",
   "metadata": {},
   "source": [
    "### Sekwencje"
   ]
  },
  {
   "cell_type": "markdown",
   "metadata": {},
   "source": [
    "#### tuple - tworzenie"
   ]
  },
  {
   "cell_type": "code",
   "execution_count": 41,
   "metadata": {},
   "outputs": [
    {
     "name": "stdout",
     "output_type": "stream",
     "text": [
      "(50.265196, 19.018155)\n"
     ]
    }
   ],
   "source": [
    "# Stwórz krotkę, która zawiera współrzędne GPS budynku ING na Sokolskiej 34 w Katowicach: 50.265196, 19.018155\n",
    "sokolska_34_gps = (50.265196, 19.018155) \n",
    "print(sokolska_34_gps)"
   ]
  },
  {
   "cell_type": "markdown",
   "metadata": {},
   "source": [
    "#### list - tworzenie"
   ]
  },
  {
   "cell_type": "code",
   "execution_count": 84,
   "metadata": {},
   "outputs": [
    {
     "name": "stdout",
     "output_type": "stream",
     "text": [
      "['Karol', 'Kowalski', 25, 25]\n"
     ]
    }
   ],
   "source": [
    "# Stwórz listę, która zawiera imię, nazwisko, numer klienta, wiek\n",
    "imie = 'Karol'\n",
    "nazwisko = 'Kowalski'\n",
    "nr_klienta = 25\n",
    "wiek = 25\n",
    "client_features = [imie,nazwisko,nr_klienta,wiek]\n",
    "print(client_features)"
   ]
  },
  {
   "cell_type": "markdown",
   "metadata": {},
   "source": [
    "#### tuple, list - indeksowanie, członkostwo, długość"
   ]
  },
  {
   "cell_type": "code",
   "execution_count": 44,
   "metadata": {},
   "outputs": [
    {
     "name": "stdout",
     "output_type": "stream",
     "text": [
      "Karol Kowalski 12 lata\n"
     ]
    }
   ],
   "source": [
    "# Znajdź pierwszy, drugi i ostatni element utworzonej wcześniej listy\n",
    "first_name = client_features[0]\n",
    "last_name = client_features[1]\n",
    "age = client_features[2]\n",
    "print(first_name, last_name, age, \"lata\")"
   ]
  },
  {
   "cell_type": "code",
   "execution_count": 46,
   "metadata": {},
   "outputs": [
    {
     "name": "stdout",
     "output_type": "stream",
     "text": [
      "4\n"
     ]
    }
   ],
   "source": [
    "# Sprawdź długość listy client_features\n",
    "len_client_features = len(client_features)\n",
    "print(len_client_features)"
   ]
  },
  {
   "cell_type": "code",
   "execution_count": 81,
   "metadata": {},
   "outputs": [
    {
     "data": {
      "text/plain": [
       "True"
      ]
     },
     "execution_count": 81,
     "metadata": {},
     "output_type": "execute_result"
    }
   ],
   "source": [
    "# Sprawdź czy wartość 25 jest w client_features\n",
    "25 in client_features"
   ]
  },
  {
   "cell_type": "code",
   "execution_count": 85,
   "metadata": {},
   "outputs": [
    {
     "data": {
      "text/plain": [
       "2"
      ]
     },
     "execution_count": 85,
     "metadata": {},
     "output_type": "execute_result"
    }
   ],
   "source": [
    "# Sprawdź pozycję pierwszego wystąpienia wartości 25\n",
    "client_features.index(25)"
   ]
  },
  {
   "cell_type": "code",
   "execution_count": 86,
   "metadata": {},
   "outputs": [
    {
     "data": {
      "text/plain": [
       "2"
      ]
     },
     "execution_count": 86,
     "metadata": {},
     "output_type": "execute_result"
    }
   ],
   "source": [
    "# Sprawdź liczbę wystąpień wartości 25 w sekwencji\n",
    "client_features.count(25)"
   ]
  },
  {
   "cell_type": "markdown",
   "metadata": {},
   "source": [
    "#### tuple, list - konkatenacja (łączenie)"
   ]
  },
  {
   "cell_type": "code",
   "execution_count": 100,
   "metadata": {},
   "outputs": [
    {
     "name": "stdout",
     "output_type": "stream",
     "text": [
      "['Alicja', 'Monika', 'Natalia', 'Jerzy', 'Mateusz', 'Robert']\n",
      "1408487841152\n",
      "1408488636288\n"
     ]
    }
   ],
   "source": [
    "# Połącz listę klientów z 03.08 i z 04.08\n",
    "clients_03_08 = ['Alicja', 'Monika', 'Natalia']\n",
    "clients_04_08 = ['Jerzy', 'Mateusz', 'Robert']\n",
    "clients_03_08.extend(clients_04_08)\n",
    "\n",
    "print(clients_03_08)\n"
   ]
  },
  {
   "cell_type": "code",
   "execution_count": 49,
   "metadata": {},
   "outputs": [
    {
     "name": "stdout",
     "output_type": "stream",
     "text": [
      "[100, 200, 100, 200, 100, 200]\n"
     ]
    }
   ],
   "source": [
    "# Stwórz listę z powtórzonej sekwencji elementów wykorzystując operator mnożenia\n",
    "lista = [100, 200]\n",
    "lista_new = lista*3\n",
    "print(lista_new)\n",
    "# [100,200,100,200,100,200]"
   ]
  },
  {
   "cell_type": "markdown",
   "metadata": {},
   "source": [
    "#### list - modyfikacja"
   ]
  },
  {
   "cell_type": "code",
   "execution_count": 50,
   "metadata": {},
   "outputs": [
    {
     "name": "stdout",
     "output_type": "stream",
     "text": [
      "['konto']\n"
     ]
    }
   ],
   "source": [
    "# Stwórz pustą listę, która będzie zawierała nazwy kont nowego klienta\n",
    "konta = ['konto']\n",
    "print(konta)"
   ]
  },
  {
   "cell_type": "code",
   "execution_count": 94,
   "metadata": {},
   "outputs": [
    {
     "name": "stdout",
     "output_type": "stream",
     "text": [
      "['konto walutowe', 'konto', 'Komfort', 'Walutowe_eur', 'Walutowe_usd', 'Direct', 'Komfort']\n"
     ]
    }
   ],
   "source": [
    "# Dodaj nazwę konta Direct i nazwę konta Komfort do listy\n",
    "konta.extend(['Direct','Komfort'])\n",
    "\n",
    "print(konta)"
   ]
  },
  {
   "cell_type": "code",
   "execution_count": 54,
   "metadata": {},
   "outputs": [
    {
     "name": "stdout",
     "output_type": "stream",
     "text": [
      "['Mobi', 'konto', 'Direct', 'Komfort']\n"
     ]
    }
   ],
   "source": [
    "# Dodaj nazwę konta Mobi do listy, żeby nazwa Mobi znajdowała się na pierwszej pozycji\n",
    "\n",
    "konta.insert(0,'Mobi')\n",
    "print(konta)"
   ]
  },
  {
   "cell_type": "code",
   "execution_count": 55,
   "metadata": {},
   "outputs": [
    {
     "name": "stdout",
     "output_type": "stream",
     "text": [
      "['konto walutowe', 'konto', 'Direct', 'Komfort']\n"
     ]
    }
   ],
   "source": [
    "# Zamień nazwę konta Mobi na konto walutowe\n",
    "\n",
    "konta[0] = 'konto walutowe'\n",
    "\n",
    "print(konta)"
   ]
  },
  {
   "cell_type": "code",
   "execution_count": 95,
   "metadata": {},
   "outputs": [
    {
     "name": "stdout",
     "output_type": "stream",
     "text": [
      "['konto walutowe', 'konto', 'Komfort', 'Walutowe_eur', 'Walutowe_usd', 'Komfort']\n"
     ]
    }
   ],
   "source": [
    "# Usuń konto Direct z listy\n",
    "konta.remove('Direct')\n",
    "print(konta)"
   ]
  },
  {
   "cell_type": "code",
   "execution_count": 57,
   "metadata": {},
   "outputs": [
    {
     "name": "stdout",
     "output_type": "stream",
     "text": [
      "['konto walutowe', 'konto', 'Komfort', 'Walutowe_eur', 'Walutowe_usd']\n"
     ]
    }
   ],
   "source": [
    "# Dodaj do listy 2 nowe konta: Walutowe_eur, Walutowe_usd\n",
    "konta.extend(['Walutowe_eur','Walutowe_usd'])\n",
    "print(konta)"
   ]
  },
  {
   "cell_type": "code",
   "execution_count": 96,
   "metadata": {},
   "outputs": [
    {
     "name": "stdout",
     "output_type": "stream",
     "text": [
      "[]\n"
     ]
    }
   ],
   "source": [
    "# Usuń wszytskie elementy listy\n",
    "konta.clear()\n",
    "print(konta)"
   ]
  },
  {
   "cell_type": "markdown",
   "metadata": {},
   "source": [
    "#### zmienne jako referencje"
   ]
  },
  {
   "cell_type": "code",
   "execution_count": 102,
   "metadata": {},
   "outputs": [
    {
     "name": "stdout",
     "output_type": "stream",
     "text": [
      "['konto walutowe', 'Komfort', 'Walutowe_eur', 'Walutowe_usd']\n",
      "1408491732672\n",
      "1408491732672\n"
     ]
    }
   ],
   "source": [
    "# Stwórz listę z nazwami kont dla klienta 1, klienta 2 ma takie same konta.\n",
    "# Przypisz zmmienną klienta 1  do  zmiennej klienta 2.\n",
    "client_1  = ['konto walutowe', 'Komfort', 'Walutowe_eur', 'Walutowe_usd']\n",
    "client_2 = client_1\n",
    "print(client_2)\n",
    "print(id(client_1))\n",
    "print(id(client_2))"
   ]
  },
  {
   "cell_type": "code",
   "execution_count": 64,
   "metadata": {},
   "outputs": [
    {
     "name": "stdout",
     "output_type": "stream",
     "text": [
      "['konto walutowe', 'Komfort', 'Walutowe_eur', 'Walutowe_usd', 'Direct', 'Direct', 'Direct']\n",
      "['konto walutowe', 'Komfort', 'Walutowe_eur', 'Walutowe_usd', 'Direct', 'Direct', 'Direct']\n"
     ]
    }
   ],
   "source": [
    "# Dodaj nazwę konta Direct do listy klienta 1\n",
    "client_1.append('Direct')\n",
    "print(client_1)\n",
    "print(client_2)"
   ]
  },
  {
   "cell_type": "code",
   "execution_count": null,
   "metadata": {},
   "outputs": [],
   "source": [
    "# Czy zmiany widoczne są w obydwu zmiennych."
   ]
  },
  {
   "cell_type": "markdown",
   "metadata": {},
   "source": [
    "#### list - klonowanie"
   ]
  },
  {
   "cell_type": "code",
   "execution_count": 103,
   "metadata": {},
   "outputs": [
    {
     "name": "stdout",
     "output_type": "stream",
     "text": [
      "['konto walutowe', 'Walutowe_eur', 'Walutowe_usd']\n",
      "1408488516608\n",
      "1408489951104\n"
     ]
    }
   ],
   "source": [
    "# Stworzymy listę z nazwami kont dla klienta 1, klienta 2 ma takie same konta.\n",
    "# Sklonuj zmmienną klienta 1  do  zmiennej klienta 2.\n",
    "client_1  = ['konto walutowe', 'Walutowe_eur', 'Walutowe_usd']\n",
    "client_2 = client_1.copy()\n",
    "print(client_2)\n",
    "print(id(client_1))\n",
    "print(id(client_2))"
   ]
  },
  {
   "cell_type": "code",
   "execution_count": 68,
   "metadata": {},
   "outputs": [
    {
     "name": "stdout",
     "output_type": "stream",
     "text": [
      "['konto walutowe', 'Walutowe_eur', 'Walutowe_usd']\n"
     ]
    }
   ],
   "source": [
    "# Dodajemy nazwe konta Direct do listy klienta 1\n",
    "client_1.append('Direct')\n",
    "print(client_2)"
   ]
  },
  {
   "cell_type": "code",
   "execution_count": 69,
   "metadata": {},
   "outputs": [
    {
     "name": "stdout",
     "output_type": "stream",
     "text": [
      "['konto walutowe', 'Walutowe_eur', 'Walutowe_usd', 'Direct']\n"
     ]
    }
   ],
   "source": [
    "# Czy zmiany widoczne są w obydwu zmiennych.\n",
    "print(client_1)"
   ]
  },
  {
   "cell_type": "markdown",
   "metadata": {},
   "source": [
    "#### tuple, list - fragmenty (slicing)"
   ]
  },
  {
   "cell_type": "code",
   "execution_count": 70,
   "metadata": {},
   "outputs": [],
   "source": [
    "# Stwórz listę imion klientów\n",
    "lista_klientow = ['Adam','Max','Klaudia','Janusz','Grażyna','Wiktor']"
   ]
  },
  {
   "cell_type": "code",
   "execution_count": 71,
   "metadata": {},
   "outputs": [
    {
     "name": "stdout",
     "output_type": "stream",
     "text": [
      "['Max', 'Klaudia', 'Janusz']\n"
     ]
    }
   ],
   "source": [
    "# Wyświetl elementy listy od 2 (wliczjąc 2 element) do 5 (nie wliczając 5 element)\n",
    "print(lista_klientow[1:4])"
   ]
  },
  {
   "cell_type": "code",
   "execution_count": 73,
   "metadata": {},
   "outputs": [
    {
     "name": "stdout",
     "output_type": "stream",
     "text": [
      "['Janusz', 'Klaudia', 'Max']\n"
     ]
    }
   ],
   "source": [
    "# Wyświetl elementy listy od 2 (wliczjąc 2 element) do 5 (nie wliczając 5 element), używając ujemnych wartości\n",
    "print(lista_klientow[-3:0:-1])"
   ]
  },
  {
   "cell_type": "code",
   "execution_count": 74,
   "metadata": {},
   "outputs": [
    {
     "name": "stdout",
     "output_type": "stream",
     "text": [
      "['Adam', 'Klaudia', 'Grażyna']\n"
     ]
    }
   ],
   "source": [
    "# Wyswietl co 2 element listy, zaczynając od 1 elementu\n",
    "print((lista_klientow[::2]))"
   ]
  },
  {
   "cell_type": "code",
   "execution_count": 75,
   "metadata": {},
   "outputs": [
    {
     "name": "stdout",
     "output_type": "stream",
     "text": [
      "['Wiktor', 'Grażyna', 'Janusz', 'Klaudia', 'Max', 'Adam']\n"
     ]
    }
   ],
   "source": [
    "# Odwróć kolejność elementów listy\n",
    "print(lista_klientow[-1::-1])"
   ]
  },
  {
   "cell_type": "markdown",
   "metadata": {},
   "source": [
    "#### tuple, list - konwersje, zakresy"
   ]
  },
  {
   "cell_type": "code",
   "execution_count": 114,
   "metadata": {},
   "outputs": [],
   "source": [
    "# Stwórz listę na bazie krotki z numerami klientów\n",
    "\n",
    "lista_klientow_kr = (1,2,3,4,5,6,7,8,9,)\n",
    "lista_klientow_lista = list(lista_klientow_kr)"
   ]
  },
  {
   "cell_type": "code",
   "execution_count": 115,
   "metadata": {},
   "outputs": [],
   "source": [
    "# Stwórz krotkę  na bazie listy z numerami klientów\n",
    "lista_klientow_kr2 = list(lista_klientow_lista)"
   ]
  },
  {
   "cell_type": "code",
   "execution_count": 113,
   "metadata": {},
   "outputs": [
    {
     "name": "stdout",
     "output_type": "stream",
     "text": [
      "['I', 'N', 'G']\n"
     ]
    }
   ],
   "source": [
    "# Stwórz listę na bazie napisu \"ING\"\n",
    "napis = []\n",
    "napis = list('ING')\n",
    "print(napis)"
   ]
  },
  {
   "cell_type": "code",
   "execution_count": 116,
   "metadata": {},
   "outputs": [
    {
     "name": "stdout",
     "output_type": "stream",
     "text": [
      "(0, 1, 2, 3, 4)\n"
     ]
    }
   ],
   "source": [
    "# Stwórz krotkę zawierająca pięć pierwszych liczb naturalnych (licząc od zera).\n",
    "\n",
    "liczby = tuple(range(5))\n",
    "print(liczby)"
   ]
  },
  {
   "cell_type": "code",
   "execution_count": 117,
   "metadata": {},
   "outputs": [
    {
     "name": "stdout",
     "output_type": "stream",
     "text": [
      "(1, 2, 3, 4, 5)\n"
     ]
    }
   ],
   "source": [
    "# Stwórz listę pierwszych pięciu liczb naturalnych licząc od jeden.\n",
    "liczby = tuple(range(1,6))\n",
    "print(liczby)"
   ]
  },
  {
   "cell_type": "code",
   "execution_count": 119,
   "metadata": {},
   "outputs": [
    {
     "name": "stdout",
     "output_type": "stream",
     "text": [
      "(2, 4, 6, 8, 10)\n"
     ]
    }
   ],
   "source": [
    "# Stwórz krotkę zawierająca liczby parzyste zaczynające się od 2\n",
    "liczby = tuple(range(2,12,2))\n",
    "print(liczby)"
   ]
  },
  {
   "cell_type": "markdown",
   "metadata": {},
   "source": [
    "#### tuple, list - porządek, sortowanie"
   ]
  },
  {
   "cell_type": "code",
   "execution_count": 121,
   "metadata": {},
   "outputs": [
    {
     "data": {
      "text/plain": [
       "False"
      ]
     },
     "execution_count": 121,
     "metadata": {},
     "output_type": "execute_result"
    }
   ],
   "source": [
    "# Sprawdź czy kwoty przełewów, które zawiera lista 1 równe kwotom przełewów w liście 2\n",
    "lista_1 = [10,20,30]\n",
    "lista_2 = [20,30,10]\n",
    "lista_1 == lista_2"
   ]
  },
  {
   "cell_type": "code",
   "execution_count": null,
   "metadata": {},
   "outputs": [],
   "source": [
    "# Sprawdź czy lista 1 większa od listy 2\n",
    "lista_1 = \n",
    "lista_2 = "
   ]
  },
  {
   "cell_type": "code",
   "execution_count": 122,
   "metadata": {},
   "outputs": [
    {
     "name": "stdout",
     "output_type": "stream",
     "text": [
      "['Andrzej', 'Krzysztof', 'Paweł', 'Robert', 'Ryszard']\n"
     ]
    }
   ],
   "source": [
    "# Posortuj krotkę listę imion klientów\n",
    "lista_imion =  (\"Ryszard\", \"Robert\", \"Andrzej\", \"Krzysztof\", \"Paweł\")\n",
    "print(sorted(lista_imion))"
   ]
  },
  {
   "cell_type": "markdown",
   "metadata": {},
   "source": [
    "#### tuple, list - rozpakowywanie"
   ]
  },
  {
   "cell_type": "code",
   "execution_count": 99,
   "metadata": {},
   "outputs": [
    {
     "name": "stdout",
     "output_type": "stream",
     "text": [
      "Ryszard, Robert, ['Andrzej', 'Krzysztof', 'Paweł']\n"
     ]
    }
   ],
   "source": [
    "# Przypisz do zmiennych client1, client2, inni imiona z listy lista_imion\n",
    "client1, client2, *inni = lista_imion\n",
    "print(f'{client1}, {client2}, {inni}')"
   ]
  },
  {
   "cell_type": "markdown",
   "metadata": {},
   "source": [
    "#### set - tworzenie"
   ]
  },
  {
   "cell_type": "code",
   "execution_count": 133,
   "metadata": {},
   "outputs": [
    {
     "name": "stdout",
     "output_type": "stream",
     "text": [
      "{'4567', '1233', '2345'}\n"
     ]
    }
   ],
   "source": [
    "# Utwórz zbiór, który zawiera tylko unikalne numery rachunków klienta\n",
    "nr_rachunku = {'1233', '2345', '4567', '2345'}\n",
    "print(nr_rachunku)"
   ]
  },
  {
   "cell_type": "markdown",
   "metadata": {},
   "source": [
    "#### set - algebra zbiorów"
   ]
  },
  {
   "cell_type": "code",
   "execution_count": 134,
   "metadata": {},
   "outputs": [
    {
     "data": {
      "text/plain": [
       "True"
      ]
     },
     "execution_count": 134,
     "metadata": {},
     "output_type": "execute_result"
    }
   ],
   "source": [
    "# Sprawdź czy wszystkie elementy zbioru numerów rachunku 1 klienta\n",
    "# zawierają się w  zbiorze numerów rachunku 2 klienta\n",
    "client_1 = {'1233', '2345', '4567', '2345'}\n",
    "client_2 = {'1233', '4567', '2345'}\n",
    "\n",
    "client_1.issubset(client_2)"
   ]
  },
  {
   "cell_type": "code",
   "execution_count": 135,
   "metadata": {},
   "outputs": [
    {
     "data": {
      "text/plain": [
       "True"
      ]
     },
     "execution_count": 135,
     "metadata": {},
     "output_type": "execute_result"
    }
   ],
   "source": [
    "# Sprawdź czy wszystkie elementy zbioru numerów rachunku 2 klienta\n",
    "# zawierają się w  zbiorze numerów rachunku 1 klienta\n",
    "client_1 = {'1233', '2345', '4567', '2345'}\n",
    "client_2 = {'1233', '4567', '2345'}\n",
    "\n",
    "client_2.issubset(client_1)"
   ]
  },
  {
   "cell_type": "code",
   "execution_count": 136,
   "metadata": {},
   "outputs": [
    {
     "data": {
      "text/plain": [
       "False"
      ]
     },
     "execution_count": 136,
     "metadata": {},
     "output_type": "execute_result"
    }
   ],
   "source": [
    "# Sprawdź czy zbiory są rozłączne\n",
    "\n",
    "client_1.isdisjoint(client_2)"
   ]
  },
  {
   "cell_type": "markdown",
   "metadata": {},
   "source": [
    "#### set - modyfikacja"
   ]
  },
  {
   "cell_type": "code",
   "execution_count": 111,
   "metadata": {},
   "outputs": [
    {
     "name": "stdout",
     "output_type": "stream",
     "text": [
      "{'4567', '6789', '1233', '2345'}\n"
     ]
    }
   ],
   "source": [
    "# Zmodyfikuj zbiór numerów rachunku 1 klienta, dodając do niego nr rachunku '6789'\n",
    "client_1.add('6789')\n",
    "print(client_1)"
   ]
  },
  {
   "cell_type": "code",
   "execution_count": 123,
   "metadata": {},
   "outputs": [
    {
     "name": "stdout",
     "output_type": "stream",
     "text": [
      "{'4567', '6789', '1233'}\n"
     ]
    }
   ],
   "source": [
    "# Usuń ze zbioru numerów rachunku 1 klienta, nr rachunku: 2345\n",
    "client_1.remove('2345')\n",
    "print(client_1)"
   ]
  },
  {
   "cell_type": "code",
   "execution_count": 124,
   "metadata": {},
   "outputs": [
    {
     "name": "stdout",
     "output_type": "stream",
     "text": [
      "set()\n",
      "{'2345', '1233', '4567'}\n"
     ]
    }
   ],
   "source": [
    "# Usuń wszystkie elementy ze zbioru numerów rachunku 1 klienta\n",
    "client_1.clear()\n",
    "print(client_1)\n",
    "print(client_2)"
   ]
  },
  {
   "cell_type": "markdown",
   "metadata": {},
   "source": [
    "#### set - elementy hashowalne"
   ]
  },
  {
   "cell_type": "code",
   "execution_count": null,
   "metadata": {},
   "outputs": [],
   "source": [
    "set_with_list = set()\n",
    "set_with_list.add([1, 2, 3])"
   ]
  },
  {
   "cell_type": "code",
   "execution_count": null,
   "metadata": {},
   "outputs": [],
   "source": [
    "mix_set = { 1, 3, True, \"Some text\", 2.3, (1, 2, 3)}"
   ]
  },
  {
   "cell_type": "markdown",
   "metadata": {},
   "source": [
    "# Słowniki\n",
    "\n",
    "### Tworzenie słownika\n",
    "0. `{}`\n",
    "0. `dict()`\n",
    "\n",
    "### Funkcje\n",
    "0. `enumerate`\n",
    "0. `zip`"
   ]
  },
  {
   "cell_type": "code",
   "execution_count": 128,
   "metadata": {},
   "outputs": [
    {
     "data": {
      "text/plain": [
       "{'first_name': 'Jan',\n",
       " 'last_name': 'Ingowski',\n",
       " 'age': 34,\n",
       " 'magic_number': 91,\n",
       " 'accounts_balance': 5345.87}"
      ]
     },
     "execution_count": 128,
     "metadata": {},
     "output_type": "execute_result"
    }
   ],
   "source": [
    "# Kartoteka klienta jako słownik\n",
    "first_name = \"Jan\"\n",
    "last_name = \"Ingowski\"\n",
    "age = 34\n",
    "magic_number = 91\n",
    "accounts_balance = 5_345.87\n",
    "\n",
    "customer_1234567890 = {'first_name':first_name,\n",
    "                       'last_name':last_name,\n",
    "                       'age':age,\n",
    "                       'magic_number':magic_number,\n",
    "                       'accounts_balance':accounts_balance}\n",
    "\n",
    "customer_1234567890"
   ]
  },
  {
   "cell_type": "code",
   "execution_count": 129,
   "metadata": {},
   "outputs": [
    {
     "data": {
      "text/plain": [
       "{'1234567890': {'first_name': 'Jan',\n",
       "  'last_name': 'Ingowski',\n",
       "  'age': 34,\n",
       "  'magic_number': 91,\n",
       "  'accounts_balance': 5345.87},\n",
       " '1234567891': {'first_name': 'Anna',\n",
       "  'last_name': 'Ingowska',\n",
       "  'age': 32,\n",
       "  'magic_number': 98,\n",
       "  'accounts_balance': 6375.89}}"
      ]
     },
     "execution_count": 129,
     "metadata": {},
     "output_type": "execute_result"
    }
   ],
   "source": [
    "# Zebranie wielu kartotek do słownika\n",
    "first_name = \"Jan\"\n",
    "last_name = \"Ingowski\"\n",
    "age = 34\n",
    "magic_number = 91\n",
    "accounts_balance = 5_345.87\n",
    "\n",
    "customer_1234567890 =  {'first_name':first_name,\n",
    "                       'last_name':last_name,\n",
    "                       'age':age,\n",
    "                       'magic_number':magic_number,\n",
    "                       'accounts_balance':accounts_balance}\n",
    "\n",
    "first_name = \"Anna\"\n",
    "last_name = \"Ingowska\"\n",
    "age = 32\n",
    "magic_number = 98\n",
    "accounts_balance = 6_375.89\n",
    "\n",
    "customer_1234567891 =  {'first_name':first_name,\n",
    "                       'last_name':last_name,\n",
    "                       'age':age,\n",
    "                       'magic_number':magic_number,\n",
    "                       'accounts_balance':accounts_balance}\n",
    "\n",
    "customers = {'1234567890':customer_1234567890,'1234567891':customer_1234567891}\n",
    "\n",
    "customers"
   ]
  },
  {
   "cell_type": "markdown",
   "metadata": {},
   "source": [
    "#### zagnieżdżone sekwencje"
   ]
  },
  {
   "cell_type": "code",
   "execution_count": 137,
   "metadata": {},
   "outputs": [
    {
     "name": "stdout",
     "output_type": "stream",
     "text": [
      "[[1, 2, 3], [4, 5, 6]]\n",
      "[4, 5, 6]\n",
      "6\n"
     ]
    }
   ],
   "source": [
    "# Stwórz listę, której elementami są 2 poniższe listy:\n",
    "list_a=[1,2,3]\n",
    "list_b=[4,5,6]\n",
    "\n",
    "list_nested=[list_a,list_b]\n",
    "print(list_nested)\n",
    "print(list_nested[1])\n",
    "print(list_nested[1][2])\n",
    "# wypisz na ekran listę list_b odnosząc się do niej z użyciem list_nested (użyj indeksu)\n",
    "# wypisz na ekran element o indeksie 2 z listy o indeksie 1 (5)"
   ]
  },
  {
   "cell_type": "code",
   "execution_count": 140,
   "metadata": {},
   "outputs": [
    {
     "data": {
      "text/plain": [
       "'ma kota'"
      ]
     },
     "execution_count": 140,
     "metadata": {},
     "output_type": "execute_result"
    }
   ],
   "source": [
    "# stwórz krotkę (tuple), która zawiera kolejno: listę [1,2,3], słownik {\"ala\":\"ma kota\"}, set {1,2,3,4}\n",
    "krotka=([1,2,3], {\"ala\":\"ma kota\"}, {1,2,3,4})\n",
    "# zwróć z tej krotki:\n",
    "# sam słownik\n",
    "# stringa \"ma kota\"\n",
    "krotka[1]['ala']\n"
   ]
  },
  {
   "cell_type": "markdown",
   "metadata": {},
   "source": [
    "Zagnieżdżać można wiele typów w sobie nawzajem. Przykładowo lista może zawierać słowniki, które to zawierają tuple (krotki).\n",
    "Pewnie zastanawiacie się do czego tak skomplikowane struktury mogą byc przydatne. Spójrz na naszą kartotekę:\n",
    "każdy klient, oprócz danych osobowych ma jeden lub więcej rachunków, a rachunek ma saldo i numer. Klientów jest wielu, więc możemy ich przechować np. w formie listy."
   ]
  },
  {
   "cell_type": "code",
   "execution_count": 73,
   "metadata": {},
   "outputs": [
    {
     "name": "stdout",
     "output_type": "stream",
     "text": [
      "{'first_name': 'Jan', 'last_name': 'Kowalski', 'age': 18, 'accounts': [{'nr': '123', 'balance': 1000, 'active': True}, {'nr': '456', 'balance': 0, 'active': False}]}\n",
      "{'first_name': 'Iwan', 'last_name': 'Groźny', 'age': 25, 'accounts': [{'nr': '223', 'balance': 1000, 'active': True}, {'nr': '451', 'balance': 2, 'active': True}]}\n",
      "{'first_name': 'Michał', 'last_name': 'Kowalski', 'age': 18, 'accounts': [{'nr': '223', 'balance': 1000, 'active': True}, {'nr': '442', 'balance': 0, 'active': False}]}\n"
     ]
    }
   ],
   "source": [
    "# Zaprojektuj zagnieżdżoną strukturę do przechowywania takich kartotek i zapisz do niej 3 klientów. \n",
    "# Niech każdy klient ma po 2 rachunki.\n",
    "customer_1 = {'first_name':'Jan',\n",
    "              'last_name':'Kowalski',\n",
    "              'age':18}\n",
    "\n",
    "customer_1['accounts'] = list()\n",
    "acct_1 = {'nr': '123', 'balance': 1000, 'active': True}\n",
    "acct_2 = {'nr': '456', 'balance': 0, 'active': False}\n",
    "customer_1['accounts'].append(acct_1)\n",
    "customer_1['accounts'].append(acct_2)\n",
    "print(customer_1)\n",
    "\n",
    "dane = ['first_name', 'last_name', 'age']\n",
    "wartosci = ['Iwan', 'Groźny', 25]\n",
    "\n",
    "customer_2 = dict(zip(dane,wartosci))\n",
    "\n",
    "dane2 = ['nr','balance','active']\n",
    "wartosc2 = ['223',1000, True]\n",
    "wartosc3 = ['451',2, True]\n",
    "\n",
    "customer_2['accounts'] = list()\n",
    "customer_2['accounts'].append(dict(zip(dane2,wartosc2)))\n",
    "customer_2['accounts'].append(dict(zip(dane2,wartosc3)))\n",
    "\n",
    "print(customer_2)\n",
    "\n",
    "customer_3 = dict(zip(dane,['Michał', 'Kowalski', 18]))\n",
    "\n",
    "customer_3['accounts'] = list()\n",
    "customer_3['accounts'].append(dict(zip(dane2,['223',  1000, True])))\n",
    "customer_3['accounts'].append(dict(zip(dane2,['442', 0, False])))\n",
    "print(customer_3)\n",
    "\n",
    "customers = [customer_1,customer_2,customer_3]\n",
    "\n"
   ]
  },
  {
   "cell_type": "code",
   "execution_count": 92,
   "metadata": {},
   "outputs": [
    {
     "name": "stdout",
     "output_type": "stream",
     "text": [
      "Jan\n",
      "name: ['Jan', 'Iwan', 'Michał']\n",
      "Jan\n",
      "Iwan\n",
      "Michał\n",
      "451\n",
      "223\n",
      "451\n",
      "['223', '451']\n",
      "2\n",
      "1000\n",
      "0\n",
      "1000\n",
      "2\n",
      "1000\n",
      "0\n",
      "[[1000, 0], [1000, 2], [1000, 0]]\n"
     ]
    }
   ],
   "source": [
    "# Wypisz na ekran imiona klientów\n",
    "#------------------1\n",
    "print(customers[0]['first_name'])\n",
    "#------------------2\n",
    "print('name: '+ str([cust['first_name'] for cust in  customers]))\n",
    "\n",
    "for customer in customers:\n",
    "    print(customer['first_name'])\n",
    "\n",
    "# Wypisz wszystkie numery rachunków klienta o indeksie 1\n",
    "#------------------1\n",
    "print(customers[1]['accounts'][1]['nr'])\n",
    "#------------------2\n",
    "for cust in customers[1]['accounts']:\n",
    "    print(cust['nr'])\n",
    "#------------------3\n",
    "print(str([cust['nr'] for cust in customers[1]['accounts']]))\n",
    "\n",
    "# Wypisz wszystkie salda wszystkich klientów\n",
    "#------------------1\n",
    "print(customers[1]['accounts'][1]['balance'])\n",
    "#------------------2\n",
    "for cust in customers:\n",
    "    for account in cust['accounts']:\n",
    "        print(account['balance'])\n",
    "#------------------3\n",
    "print(str([[account['balance'] for account in cust['accounts']] for cust in customers]))\n",
    "   \n",
    "        "
   ]
  },
  {
   "cell_type": "markdown",
   "metadata": {},
   "source": [
    "#### Python: instrukcje warunkowe"
   ]
  },
  {
   "cell_type": "code",
   "execution_count": 81,
   "metadata": {},
   "outputs": [
    {
     "name": "stdout",
     "output_type": "stream",
     "text": [
      "name: ['Jan', 'Iwan', 'Michał']\n",
      "[{'nr': '223', 'balance': 1000, 'active': True}, {'nr': '451', 'balance': 2, 'active': True}]\n",
      "223\n",
      "451\n"
     ]
    },
    {
     "data": {
      "text/plain": [
       "['223', '451']"
      ]
     },
     "execution_count": 81,
     "metadata": {},
     "output_type": "execute_result"
    }
   ],
   "source": [
    "print('name: '+ str([cust['first_name'] for cust in  customers]))\n",
    "  \n",
    "#[cust['first_name'] for cust in  customers]\n",
    "\n",
    "#[cust['accounts']:cust['nr'] for cust in customers.index(1)]\n",
    "\n",
    "print(customers[1]['accounts'])\n",
    "\n",
    "for cust in customers[1]['accounts']:\n",
    "    print(cust['nr'])\n",
    "\n",
    "[cust['nr'] for cust in customers[1]['accounts']]\n",
    "   "
   ]
  },
  {
   "cell_type": "code",
   "execution_count": null,
   "metadata": {},
   "outputs": [],
   "source": [
    "# Zwróć odpowiedź (Wykonaj operację/Nie ma wystarczających środków),\n",
    "# w zależności od tego czy kwots transakcji jest większa od salda\n",
    "# Klient chcę wykonać transakcję na kwotę 1010 zł, mając na koncie 1000 zł."
   ]
  },
  {
   "cell_type": "markdown",
   "metadata": {},
   "source": [
    "# Pętle\n",
    "\n",
    "### Rodzaje pętli\n",
    "0. `while`\n",
    "0. `for`\n",
    "\n",
    "### Instrukcje\n",
    "0. `break`\n",
    "0. `continue`"
   ]
  },
  {
   "cell_type": "code",
   "execution_count": 101,
   "metadata": {},
   "outputs": [
    {
     "name": "stdout",
     "output_type": "stream",
     "text": [
      "256.65  transaction  -100.0\n",
      "206.64999999999998  transaction  -50.0\n",
      "56.64999999999998  transaction  -150.0\n"
     ]
    }
   ],
   "source": [
    "# Napisz pętlę do wykonania transakcji na rachunku, przerwij w przypadku braku środków\n",
    "account_balance = 356.65\n",
    "transactions = [-100.0, -50.0, -150.0, -230.0, -40.0]\n",
    "\n",
    "for i in transactions:\n",
    "    if account_balance + i > 0:\n",
    "        account_balance += i\n",
    "        print(account_balance, ' transaction ', i)\n",
    "    else:\n",
    "        break\n"
   ]
  },
  {
   "cell_type": "code",
   "execution_count": 102,
   "metadata": {},
   "outputs": [
    {
     "name": "stdout",
     "output_type": "stream",
     "text": [
      "Transaction:  -100.0  balance:  256.65\n",
      "Transaction:  -50.0  balance:  206.64999999999998\n",
      "Transaction:  -150.0  balance:  56.64999999999998\n",
      "Not enough money!\n",
      "Transaction:  -40.0  balance:  16.649999999999977\n"
     ]
    }
   ],
   "source": [
    "# Napisz pętlę do wykonania transakcji na rachunku, kontynuuj w przypadku braku środków\n",
    "account_balance = 356.65\n",
    "transactions = [-100.0, -50.0, -150.0, -230.0, -40.0]\n",
    "\n",
    "for i in transactions:\n",
    "    if account_balance + i > 0:\n",
    "        account_balance += i\n",
    "        print('Transaction: ', i, ' balance: ', account_balance)\n",
    "    else:\n",
    "        print('Not enough money!')\n",
    "        continue"
   ]
  },
  {
   "cell_type": "code",
   "execution_count": 103,
   "metadata": {},
   "outputs": [
    {
     "name": "stdout",
     "output_type": "stream",
     "text": [
      "3623.30\n"
     ]
    }
   ],
   "source": [
    "# Oblicz sumę sald na rachunkach oszczędnościowych klienta\n",
    "accounts = [\n",
    "    {\"balance\": 157.75, \"saving\": True},\n",
    "    {\"balance\": 1_158.35, \"saving\": True},\n",
    "    {\"balance\": 3_154.35, \"saving\": False},\n",
    "    {\"balance\": 2_158.35, \"saving\": True},\n",
    "    {\"balance\": 758.85, \"saving\": False},\n",
    "    {\"balance\": 148.85, \"saving\": True},\n",
    "]\n",
    "\n",
    "balance_sum = 0\n",
    "\n",
    "for account in accounts:\n",
    "    if account['saving']:\n",
    "        balance_sum += account['balance']\n",
    "\n",
    "print(f\"{balance_sum:.2f}\")"
   ]
  },
  {
   "cell_type": "code",
   "execution_count": null,
   "metadata": {},
   "outputs": [],
   "source": []
  }
 ],
 "metadata": {
  "kernelspec": {
   "display_name": "Python 3",
   "language": "python",
   "name": "python3"
  },
  "language_info": {
   "codemirror_mode": {
    "name": "ipython",
    "version": 3
   },
   "file_extension": ".py",
   "mimetype": "text/x-python",
   "name": "python",
   "nbconvert_exporter": "python",
   "pygments_lexer": "ipython3",
   "version": "3.9.0"
  }
 },
 "nbformat": 4,
 "nbformat_minor": 4
}
